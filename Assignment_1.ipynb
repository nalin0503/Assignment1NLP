{
 "cells": [
  {
   "cell_type": "markdown",
   "metadata": {},
   "source": [
    "**Section 1:** \n",
    "\n",
    "Download, Encode and Split the Penn Treebank dataset."
   ]
  },
  {
   "cell_type": "code",
   "execution_count": 863,
   "metadata": {},
   "outputs": [],
   "source": [
    "import sys\n",
    "import shutil\n",
    "import urllib\n",
    "\n",
    "import zipfile\n",
    "from pathlib import Path\n",
    "import requests\n",
    "\n",
    "import pandas as pd\n",
    "import numpy as np\n",
    "import seaborn as sns\n",
    "import matplotlib.pyplot as plt\n",
    "import nltk\n",
    "from typing import Iterable, List, Callable, Dict\n",
    "from tqdm import tqdm"
   ]
  },
  {
   "cell_type": "code",
   "execution_count": 864,
   "metadata": {},
   "outputs": [],
   "source": [
    "class DownloadProgressBar(tqdm):\n",
    "    def update_to(self, b=1, bsize=1, tsize=None):\n",
    "        if tsize is not None:\n",
    "            self.total = tsize\n",
    "        self.update(b * bsize - self.n)\n",
    "\n",
    "def download_dataset(download_path: Path, url: str):\n",
    "    response = requests.get(url)\n",
    "    with open(download_path, 'wb') as f:\n",
    "        f.write(response.content)\n",
    "\n",
    "def download_url(download_path: Path, url: str):\n",
    "    print(\"Downloading dataset...\")\n",
    "    download_url(url=url, download_path=download_path)\n",
    "    print(\"Download complete!\")\n",
    "\n",
    "def extract_dataset(download_path: Path, extract_path: Path):\n",
    "    print(\"Extracting dataset... (it may take a while...)\")\n",
    "    with zipfile.ZipFile(download_path, 'r') as zip_ref:\n",
    "        zip_ref.extractall(extract_path)\n",
    "    print(\"Extraction completed!\")"
   ]
  },
  {
   "cell_type": "code",
   "execution_count": 865,
   "metadata": {},
   "outputs": [
    {
     "name": "stdout",
     "output_type": "stream",
     "text": [
      "Current work directory: /Users/antoniospantelis/Desktop/Assignment 1\n"
     ]
    }
   ],
   "source": [
    "url = \"https://raw.githubusercontent.com/nltk/nltk_data/gh-pages/packages/corpora/dependency_treebank.zip\"\n",
    "dataset_name = \"dependency_treebank\"\n",
    "\n",
    "print(f\"Current work directory: {Path.cwd()}\")\n",
    "dataset_folder = Path.cwd().joinpath(\"Datasets\")\n",
    "\n",
    "if not dataset_folder.exists():\n",
    "    dataset_folder.mkdir(parents=True)\n",
    "\n",
    "dataset_zip_path = dataset_folder.joinpath(\"dependency_treebank.zip\")\n",
    "dataset_path = dataset_folder.joinpath(dataset_name)\n",
    "\n",
    "if not dataset_zip_path.exists():\n",
    "    download_dataset(dataset_zip_path, url)\n",
    "\n",
    "if not dataset_path.exists():\n",
    "    extract_dataset(dataset_zip_path, dataset_folder)"
   ]
  },
  {
   "cell_type": "code",
   "execution_count": 866,
   "metadata": {},
   "outputs": [
    {
     "name": "stdout",
     "output_type": "stream",
     "text": [
      "Trinity\tNNP\t3\n",
      "Industries\tNNPS\t3\n",
      "Inc.\tNNP\t4\n",
      "said\tVBD\t0\n",
      "it\tPRP\t6\n",
      "reached\tVBD\t4\n",
      "a\tDT\t9\n",
      "preliminary\tJJ\t9\n",
      "agreement\tNN\t6\n",
      "to\tTO\t11\n",
      "sell\tVB\t9\n",
      "500\tCD\t14\n",
      "railcar\tNN\t14\n",
      "platforms\tNNS\t11\n",
      "to\tTO\t11\n",
      "Trailer\tNNP\t18\n",
      "Train\tNNP\t18\n",
      "Co.\tNNP\t15\n",
      "of\tIN\t18\n",
      "Chicago\tNNP\t19\n",
      ".\t.\t4\n",
      "\n",
      "Terms\tNNS\t2\n",
      "were\tVBD\t0\n",
      "n't\tRB\t2\n",
      "disclosed\tVBN\t2\n",
      ".\t.\t2\n",
      "\n",
      "Trinity\tNNP\t2\n",
      "said\tVBD\t0\n",
      "it\tPRP\t4\n",
      "plans\tVBZ\t2\n",
      "to\tTO\t6\n",
      "begin\tVB\t4\n",
      "delivery\tNN\t6\n",
      "in\tIN\t6\n",
      "the\tDT\t11\n",
      "first\tJJ\t11\n",
      "quarter\tNN\t8\n",
      "of\tIN\t11\n",
      "next\tJJ\t14\n",
      "year\tNN\t12\n",
      ".\t.\t2\n",
      "\n"
     ]
    }
   ],
   "source": [
    "file_path = dataset_folder.joinpath(dataset_name, \"wsj_0199.dp\")\n",
    "\n",
    "if file_path.is_file():\n",
    "        with file_path.open(mode='r', encoding='utf-8') as text_file:\n",
    "            text = text_file.read()\n",
    "            print(text)"
   ]
  },
  {
   "cell_type": "code",
   "execution_count": 867,
   "metadata": {},
   "outputs": [],
   "source": [
    "folder = dataset_folder.joinpath(dataset_name)\n",
    "\n",
    "# Initialize an empty list to store the data rows\n",
    "dataframe_rows = []\n",
    "\n",
    "# Iterate through the files in the directory with the '.dp' extension\n",
    "for file_path in folder.glob('*.dp'):\n",
    "    with file_path.open(mode='r', encoding='latin1') as text_file:\n",
    "        for line in text_file:\n",
    "            # Split the line by whitespace to separate columns\n",
    "            columns = line.strip().split()\n",
    "            if len(columns) >= 2:\n",
    "                word, pos = columns[:2]  # Extract the first two columns (Word and POS)\n",
    "                dataframe_row = {\n",
    "                    \"Word\": word,\n",
    "                    \"POS\": pos\n",
    "                }\n",
    "                dataframe_rows.append(dataframe_row)\n",
    "\n",
    "# Create a Pandas DataFrame\n",
    "df = pd.DataFrame(dataframe_rows)"
   ]
  },
  {
   "cell_type": "code",
   "execution_count": 868,
   "metadata": {},
   "outputs": [],
   "source": [
    "folder = Path.cwd().joinpath(\"Datasets\", \"Dataframes\", dataset_name)\n",
    "if not folder.exists():\n",
    "    folder.mkdir(parents=True)\n",
    "\n",
    "df = pd.DataFrame(dataframe_rows)\n",
    "df = df[[\"Word\", \n",
    "         \"POS\"]\n",
    "      ]\n",
    "df_path = folder.with_name(dataset_name + \".pkl\")\n",
    "df.to_pickle(df_path)"
   ]
  },
  {
   "cell_type": "code",
   "execution_count": 869,
   "metadata": {},
   "outputs": [],
   "source": [
    "# Define the path to the directory containing the files\n",
    "folder = dataset_folder.joinpath(dataset_name)\n",
    "\n",
    "# Create directories for train, valid, and test sets\n",
    "dataframes_folder = Path.cwd().joinpath(\"Datasets\", \"Dataframes\", dataset_name)\n",
    "train_folder = dataframes_folder.joinpath(\"train\")\n",
    "valid_folder = dataframes_folder.joinpath(\"valid\")\n",
    "test_folder = dataframes_folder.joinpath(\"test\")\n",
    "\n",
    "# Ensure that the directories exist, creating them if necessary\n",
    "train_folder.mkdir(parents=True, exist_ok=True)\n",
    "valid_folder.mkdir(parents=True, exist_ok=True)\n",
    "test_folder.mkdir(parents=True, exist_ok=True)"
   ]
  },
  {
   "cell_type": "code",
   "execution_count": 870,
   "metadata": {},
   "outputs": [],
   "source": [
    "train_data, valid_data, test_data = [], [], []\n",
    "\n",
    "# Iterate through the files in the directory with the '.dp' extension\n",
    "for file_path in folder.glob('*.dp'):\n",
    "    file_name = file_path.stem  # Get the file name without the extension\n",
    "\n",
    "    with file_path.open(mode='r', encoding='utf-8') as text_file:\n",
    "        for line in text_file:\n",
    "            columns = line.strip().split()  # Split the line by whitespace to separate columns\n",
    "            if len(columns) >= 2:\n",
    "                word, tag = columns[:2]  # Extract first 2 columns (Word & POS)\n",
    "                dataframe_row = {\n",
    "                    \"Word\": word,\n",
    "                    \"POS\": tag\n",
    "                }\n",
    "\n",
    "                # Determine which set the file should belong to based on its name\n",
    "                if int(file_name.split(\"_\")[1]) <= 100:\n",
    "                    train_data.append(dataframe_row)\n",
    "                elif 100 < int(file_name.split(\"_\")[1]) <= 150:\n",
    "                    valid_data.append(dataframe_row)\n",
    "                else:\n",
    "                    test_data.append(dataframe_row)\n",
    "\n",
    "# Create DataFrames for each set\n",
    "train_df = pd.DataFrame(train_data)\n",
    "valid_df = pd.DataFrame(valid_data)\n",
    "test_df = pd.DataFrame(test_data)\n",
    "\n",
    "# Save DataFrames to respective folders\n",
    "train_df.to_pickle(train_folder.joinpath(f\"{dataset_name}_train.pkl\"))\n",
    "valid_df.to_pickle(valid_folder.joinpath(f\"{dataset_name}_valid.pkl\"))\n",
    "test_df.to_pickle(test_folder.joinpath(f\"{dataset_name}_test.pkl\"))"
   ]
  },
  {
   "cell_type": "code",
   "execution_count": 871,
   "metadata": {},
   "outputs": [],
   "source": [
    "# Add the \"Split\" column to each of the DataFrames\n",
    "train_df[\"Split\"] = \"train\"\n",
    "valid_df[\"Split\"] = \"valid\"\n",
    "test_df[\"Split\"] = \"test\"\n",
    "\n",
    "# Concatenate the DataFrames into one DataFrame\n",
    "df = pd.concat([train_df, valid_df, test_df], ignore_index=True)"
   ]
  },
  {
   "cell_type": "code",
   "execution_count": 872,
   "metadata": {},
   "outputs": [
    {
     "name": "stdout",
     "output_type": "stream",
     "text": [
      "Distribution of words: \n",
      "Word\n",
      ",                     4885\n",
      "the                   4045\n",
      ".                     3828\n",
      "of                    2319\n",
      "to                    2164\n",
      "                      ... \n",
      "recession-inspired       1\n",
      "inherited                1\n",
      "engineered               1\n",
      "photographic             1\n",
      "microprocessors          1\n",
      "Name: count, Length: 11968, dtype: int64\n",
      "\n"
     ]
    }
   ],
   "source": [
    "print(\"Distribution of words: \")\n",
    "print(df['Word'].value_counts())\n",
    "print()"
   ]
  },
  {
   "cell_type": "code",
   "execution_count": 873,
   "metadata": {},
   "outputs": [
    {
     "name": "stdout",
     "output_type": "stream",
     "text": [
      "Distribution of POS: \n",
      "POS\n",
      "NN       13166\n",
      "IN        9857\n",
      "NNP       9410\n",
      "DT        8165\n",
      "NNS       6047\n",
      "JJ        5834\n",
      ",         4886\n",
      ".         3874\n",
      "CD        3546\n",
      "VBD       3043\n",
      "RB        2822\n",
      "VB        2554\n",
      "CC        2265\n",
      "TO        2179\n",
      "VBN       2134\n",
      "VBZ       2125\n",
      "PRP       1716\n",
      "VBG       1460\n",
      "VBP       1321\n",
      "MD         927\n",
      "POS        824\n",
      "PRP$       766\n",
      "$          724\n",
      "``         712\n",
      "''         694\n",
      ":          563\n",
      "WDT        445\n",
      "JJR        381\n",
      "NNPS       244\n",
      "WP         241\n",
      "RP         216\n",
      "JJS        182\n",
      "WRB        178\n",
      "RBR        136\n",
      "-RRB-      126\n",
      "-LRB-      120\n",
      "EX          88\n",
      "RBS         35\n",
      "PDT         27\n",
      "#           16\n",
      "WP$         14\n",
      "LS          13\n",
      "FW           4\n",
      "UH           3\n",
      "SYM          1\n",
      "Name: count, dtype: int64\n",
      "\n"
     ]
    }
   ],
   "source": [
    "print(\"Distribution of POS: \")\n",
    "print(df['POS'].value_counts())\n",
    "print()"
   ]
  },
  {
   "cell_type": "code",
   "execution_count": 874,
   "metadata": {},
   "outputs": [
    {
     "name": "stdout",
     "output_type": "stream",
     "text": [
      "Distribution of Splits: \n",
      "Split\n",
      "train    47356\n",
      "valid    31183\n",
      "test     15545\n",
      "Name: count, dtype: int64\n",
      "\n"
     ]
    }
   ],
   "source": [
    "print(\"Distribution of Splits: \")\n",
    "print(df['Split'].value_counts())\n",
    "print()"
   ]
  },
  {
   "cell_type": "code",
   "execution_count": 875,
   "metadata": {},
   "outputs": [
    {
     "name": "stdout",
     "output_type": "stream",
     "text": [
      "Distribution of Words in split: \n",
      "Split  Word              \n",
      "test   $                     208\n",
      "       %                      78\n",
      "       &                      13\n",
      "       '                       9\n",
      "       ''                     69\n",
      "                            ... \n",
      "valid  your                   11\n",
      "       yourself                2\n",
      "       yttrium-containing      1\n",
      "       zero                    1\n",
      "       zip                     1\n",
      "Length: 17524, dtype: int64\n",
      "\n"
     ]
    }
   ],
   "source": [
    "print(\"Distribution of Words in split: \")\n",
    "print(df.groupby(['Split','Word']).size())\n",
    "print()"
   ]
  },
  {
   "cell_type": "code",
   "execution_count": 876,
   "metadata": {},
   "outputs": [
    {
     "name": "stdout",
     "output_type": "stream",
     "text": [
      "Distribution of POS in split:\n",
      "Split  POS  \n",
      "test   $        209\n",
      "       ''        70\n",
      "       ,        787\n",
      "       -LRB-     18\n",
      "       -RRB-     18\n",
      "               ... \n",
      "valid  WDT      157\n",
      "       WP        80\n",
      "       WP$        4\n",
      "       WRB       62\n",
      "       ``       230\n",
      "Length: 129, dtype: int64\n",
      "\n"
     ]
    }
   ],
   "source": [
    "print(\"Distribution of POS in split:\")\n",
    "print(df.groupby(['Split','POS']).size())\n",
    "print()"
   ]
  },
  {
   "cell_type": "code",
   "execution_count": 877,
   "metadata": {},
   "outputs": [
    {
     "name": "stdout",
     "output_type": "stream",
     "text": [
      "Differences among POS tags in the splits: \n",
      "Word    POS  Split\n",
      "!       .    train      3\n",
      "             valid      3\n",
      "#       #    train      1\n",
      "             valid     15\n",
      "$       $    test     208\n",
      "                     ... \n",
      "zero    CD   valid      1\n",
      "zinc    NN   test       1\n",
      "zip     VB   valid      1\n",
      "zone    NN   train      2\n",
      "zoomed  VBN  train      1\n",
      "Length: 19108, dtype: int64\n",
      "\n"
     ]
    }
   ],
   "source": [
    "print(\"Differences among POS tags in the splits: \")\n",
    "print(df.groupby(['Word','POS','Split']).size())\n",
    "print()"
   ]
  },
  {
   "cell_type": "markdown",
   "metadata": {},
   "source": [
    "**Section 2:**\n",
    "\n",
    "Visualization and some first information on the data set."
   ]
  },
  {
   "cell_type": "code",
   "execution_count": 878,
   "metadata": {},
   "outputs": [
    {
     "data": {
      "image/png": "[encoded data removed]",
      "text/plain": [
       "<Figure size 640x480 with 1 Axes>"
      ]
     },
     "metadata": {},
     "output_type": "display_data"
    }
   ],
   "source": [
    "train_pos = df[df.Split == 'train'].POS.values\n",
    "valid_pos = df[df.Split == 'valid'].POS.values\n",
    "test_pos = df[df.Split == 'test'].POS.values\n",
    "\n",
    "plt.hist([train_pos, valid_pos, test_pos], bins=10, label=['train', 'valid', 'test'], color=[\"red\", \"green\", \"blue\"], align=\"mid\")\n",
    "plt.legend(loc='upper center')\n",
    "plt.title('POS Class Distribution')\n",
    "plt.xlabel('Class Distribution')\n",
    "plt.ylabel('# Samples')\n",
    "plt.xticks(rotation=90)  # Rotate x-axis labels for better visibility\n",
    "plt.gca().xaxis.set_major_locator(plt.MultipleLocator(2))\n",
    "plt.show()"
   ]
  },
  {
   "cell_type": "code",
   "execution_count": 879,
   "metadata": {},
   "outputs": [],
   "source": [
    "from collections import Counter\n",
    "train_word = df[df.Split == 'train'].Word.values\n",
    "valid_word = df[df.Split == 'valid'].Word.values\n",
    "test_word = df[df.Split == 'test'].Word.values\n",
    "\n",
    "\n",
    "train_word_counts = Counter(train_word)\n",
    "valid_word_counts = Counter(valid_word)\n",
    "test_word_counts = Counter(test_word)\n",
    "\n",
    "N = 20"
   ]
  },
  {
   "cell_type": "code",
   "execution_count": 880,
   "metadata": {},
   "outputs": [
    {
     "data": {
      "image/png": "[encoded data removed]",
      "text/plain": [
       "<Figure size 640x480 with 1 Axes>"
      ]
     },
     "metadata": {},
     "output_type": "display_data"
    }
   ],
   "source": [
    "top_words_train = [word for word, _ in train_word_counts.most_common(N)]\n",
    "word_counts_train = [train_word_counts[word] for word in top_words_train]\n",
    "\n",
    "plt.bar(top_words_train, word_counts_train)\n",
    "plt.xticks(rotation=90)\n",
    "plt.xlabel('Words')\n",
    "plt.ylabel('Frequency')\n",
    "plt.title('Top {} Most Frequent Words in Train Set'.format(N))\n",
    "plt.show()"
   ]
  },
  {
   "cell_type": "code",
   "execution_count": 881,
   "metadata": {},
   "outputs": [
    {
     "data": {
      "image/png": "[encoded data removed]",
      "text/plain": [
       "<Figure size 640x480 with 1 Axes>"
      ]
     },
     "metadata": {},
     "output_type": "display_data"
    }
   ],
   "source": [
    "top_words_valid = [word for word, _ in valid_word_counts.most_common(N)]\n",
    "word_counts_valid = [valid_word_counts[word] for word in top_words_valid]\n",
    "\n",
    "plt.bar(top_words_valid, word_counts_valid)\n",
    "plt.xticks(rotation=90)\n",
    "plt.xlabel('Words')\n",
    "plt.ylabel('Frequency')\n",
    "plt.title('Top {} Most Frequent Words in Validation Set'.format(N))\n",
    "plt.show()"
   ]
  },
  {
   "cell_type": "code",
   "execution_count": 882,
   "metadata": {},
   "outputs": [
    {
     "data": {
      "image/png": "[encoded data removed]",
      "text/plain": [
       "<Figure size 640x480 with 1 Axes>"
      ]
     },
     "metadata": {},
     "output_type": "display_data"
    }
   ],
   "source": [
    "top_words_test = [word for word, _ in test_word_counts.most_common(N)]\n",
    "word_counts_test = [test_word_counts[word] for word in top_words_test]\n",
    "\n",
    "plt.bar(top_words_test, word_counts_test)\n",
    "plt.xticks(rotation=90)\n",
    "plt.xlabel('Words')\n",
    "plt.ylabel('Frequency')\n",
    "plt.title('Top {} Most Frequent Words in Test Set'.format(N))\n",
    "plt.show()"
   ]
  },
  {
   "cell_type": "markdown",
   "metadata": {},
   "source": [
    "**Section 3:**\n",
    "\n",
    "Text pre-processing, Lemmatization, (Stemming ?)"
   ]
  },
  {
   "cell_type": "code",
   "execution_count": 883,
   "metadata": {},
   "outputs": [],
   "source": [
    "import re\n",
    "from functools import reduce\n",
    "import nltk\n",
    "from nltk.corpus import stopwords\n",
    "\n",
    "REPLACE_BY_SPACE_RE = re.compile('[/(){}\\[\\]\\|@]') #  all non-punctuation symbols are set to whites\n",
    "GOOD_SYMBOLS_RE = re.compile('[^0-9a-z]') # all non-alphanumeric symbols set to empty string\n",
    "try:\n",
    "    STOPWORDS = set(stopwords.words('english'))\n",
    "except LookupError:\n",
    "    nltk.download('stopwords')\n",
    "    STOPWORDS = set(stopwords.words('english'))"
   ]
  },
  {
   "cell_type": "code",
   "execution_count": 884,
   "metadata": {},
   "outputs": [],
   "source": [
    "def lower(text: str) -> str:\n",
    "    return text.lower() # lower casing words\n",
    "\n",
    "# def replace_br(text: str) -> str: # replace line breaks \n",
    "#    return text.replace('br', '')"
   ]
  },
  {
   "cell_type": "code",
   "execution_count": 885,
   "metadata": {},
   "outputs": [],
   "source": [
    "def filter_out_uncommon_symbols(text: str) -> str: # remove all non-alphanumeric symbols\n",
    "    return GOOD_SYMBOLS_RE.sub('', text)\n",
    "\n",
    "def remove_stopwords(text: str) -> str: # remove stopwords\n",
    "    return ' '.join([x for x in text.split() if x and x not in STOPWORDS])\n",
    "\n",
    "def strip_text(text: str) -> str: # removes white spacing and carriage returns \n",
    "    return text.strip()"
   ]
  },
  {
   "cell_type": "code",
   "execution_count": 886,
   "metadata": {},
   "outputs": [],
   "source": [
    "PREPROCESSING_PIPELINE = [\n",
    "                          lower,\n",
    "                          # replace_br,\n",
    "                          filter_out_uncommon_symbols,\n",
    "                          remove_stopwords,\n",
    "                          strip_text\n",
    "                          ]\n",
    "\n",
    "def text_prepare(text: str,\n",
    "                 filter_methods: List[Callable[[str], str]] = None) -> str:\n",
    "    \n",
    "    filter_methods = filter_methods if filter_methods is not None else PREPROCESSING_PIPELINE\n",
    "    return reduce(lambda txt, f: f(txt), filter_methods, text)"
   ]
  },
  {
   "cell_type": "code",
   "execution_count": 887,
   "metadata": {},
   "outputs": [
    {
     "name": "stdout",
     "output_type": "stream",
     "text": [
      "Pre-processing text...\n",
      "Pre-processing completed!\n"
     ]
    }
   ],
   "source": [
    "print('Pre-processing text...')\n",
    "\n",
    "df['Word'] = df['Word'].apply(lambda txt: text_prepare(txt))\n",
    "\n",
    "print(\"Pre-processing completed!\")"
   ]
  },
  {
   "cell_type": "code",
   "execution_count": 888,
   "metadata": {},
   "outputs": [
    {
     "name": "stdout",
     "output_type": "stream",
     "text": [
      "            Word   POS  Split\n",
      "0                   IN  train\n",
      "1      reference    NN  train\n",
      "2                   TO  train\n",
      "3                 PRP$  train\n",
      "4            oct   NNP  train\n",
      "...          ...   ...    ...\n",
      "94079       chip    NN   test\n",
      "94080     prices   NNS   test\n",
      "94081              VBP   test\n",
      "94082     fallen   VBN   test\n",
      "94083                .   test\n",
      "\n",
      "[94084 rows x 3 columns]\n"
     ]
    }
   ],
   "source": [
    "print(df)"
   ]
  },
  {
   "cell_type": "markdown",
   "metadata": {},
   "source": [
    "**Section 4**\n",
    "\n",
    "Vocabulary Creation"
   ]
  },
  {
   "cell_type": "code",
   "execution_count": 889,
   "metadata": {},
   "outputs": [],
   "source": [
    "from collections import OrderedDict\n",
    "def build_vocabulary(df: pd.DataFrame) -> (Dict[int, str], \n",
    "                                           Dict[str, int],\n",
    "                                           List[str]): # builds the vocabulary of the dataset\n",
    "\n",
    "    idx_to_word = OrderedDict() # vocabulary index to word map\n",
    "    word_to_idx = OrderedDict() # word to vocabulary index map (inverse of idx_to_word)\n",
    "\n",
    "    curr_idx = 0\n",
    "    for sentence in tqdm(df.Word.values):\n",
    "        tokens = sentence.split()\n",
    "        for token in tokens:\n",
    "            if token not in word_to_idx:\n",
    "                word_to_idx[token] = curr_idx\n",
    "                idx_to_word[curr_idx] = token\n",
    "                curr_idx += 1\n",
    "\n",
    "    word_listing = list(idx_to_word.values()) # set of unique terms that make up the vocabulary\n",
    "    return idx_to_word, word_to_idx, word_listing"
   ]
  },
  {
   "cell_type": "code",
   "execution_count": 890,
   "metadata": {},
   "outputs": [
    {
     "name": "stderr",
     "output_type": "stream",
     "text": [
      "100%|██████████| 94084/94084 [00:00<00:00, 5530487.82it/s]"
     ]
    },
    {
     "name": "stdout",
     "output_type": "stream",
     "text": [
      "[Debug] Index -> Word vocabulary size: 10606\n",
      "[Debug] Word -> Index vocabulary size: 10606\n",
      "[Debug] Some words: [('oct', 1), ('9', 2), ('pageone', 3), ('article', 4), ('barbara', 5), ('bush', 6), ('earns', 7), ('even', 8), ('higher', 9), ('ratings', 10)]\n"
     ]
    },
    {
     "name": "stderr",
     "output_type": "stream",
     "text": [
      "\n"
     ]
    }
   ],
   "source": [
    "idx_to_word, word_to_idx, word_listing = build_vocabulary(df)\n",
    "print(f'[Debug] Index -> Word vocabulary size: {len(idx_to_word)}')\n",
    "print(f'[Debug] Word -> Index vocabulary size: {len(word_to_idx)}')\n",
    "print(f'[Debug] Some words: {[(idx_to_word[idx], idx) for idx in np.arange(10) + 1]}')"
   ]
  },
  {
   "cell_type": "code",
   "execution_count": 891,
   "metadata": {},
   "outputs": [],
   "source": [
    "# Check size, content, consistency and toy example\n",
    "def evaluate_vocabulary(idx_to_word: Dict[int, str], word_to_idx: Dict[str, int],\n",
    "                        word_listing: List[str], df: pd.DataFrame, check_default_size: bool = False):\n",
    "    print(\"[Vocabulary Evaluation] Size checking...\")\n",
    "    assert len(idx_to_word) == len(word_to_idx)\n",
    "    assert len(idx_to_word) == len(word_listing)\n",
    "\n",
    "    print(\"[Vocabulary Evaluation] Content checking...\")\n",
    "    for i in tqdm(range(0, len(idx_to_word))):\n",
    "        assert idx_to_word[i] in word_to_idx\n",
    "        assert word_to_idx[idx_to_word[i]] == i\n",
    "\n",
    "    print(\"[Vocabulary Evaluation] Consistency checking...\")\n",
    "    _, _, first_word_listing = build_vocabulary(df)\n",
    "    _, _, second_word_listing = build_vocabulary(df)\n",
    "    assert first_word_listing == second_word_listing\n",
    "\n",
    "    print(\"[Vocabulary Evaluation] Toy example checking...\")\n",
    "    toy_df = pd.DataFrame.from_dict({\n",
    "        'Word': [\"all that glitters is not gold\", \"all in all i like this assignment\"]\n",
    "    })\n",
    "    _, _, toy_word_listing = build_vocabulary(toy_df)\n",
    "    toy_valid_vocabulary = set(' '.join(toy_df.Word.values).split())\n",
    "    assert set(toy_word_listing) == toy_valid_vocabulary"
   ]
  },
  {
   "cell_type": "code",
   "execution_count": 892,
   "metadata": {},
   "outputs": [
    {
     "name": "stdout",
     "output_type": "stream",
     "text": [
      "Vocabulary evaluation...\n",
      "[Vocabulary Evaluation] Size checking...\n",
      "[Vocabulary Evaluation] Content checking...\n"
     ]
    },
    {
     "name": "stderr",
     "output_type": "stream",
     "text": [
      "100%|██████████| 10606/10606 [00:00<00:00, 5735532.26it/s]\n"
     ]
    },
    {
     "name": "stdout",
     "output_type": "stream",
     "text": [
      "[Vocabulary Evaluation] Consistency checking...\n"
     ]
    },
    {
     "name": "stderr",
     "output_type": "stream",
     "text": [
      "100%|██████████| 94084/94084 [00:00<00:00, 5398094.44it/s]\n",
      "100%|██████████| 94084/94084 [00:00<00:00, 5066465.92it/s]\n"
     ]
    },
    {
     "name": "stdout",
     "output_type": "stream",
     "text": [
      "[Vocabulary Evaluation] Toy example checking...\n"
     ]
    },
    {
     "name": "stderr",
     "output_type": "stream",
     "text": [
      "100%|██████████| 2/2 [00:00<00:00, 57456.22it/s]"
     ]
    },
    {
     "name": "stdout",
     "output_type": "stream",
     "text": [
      "Evaluation completed!\n"
     ]
    },
    {
     "name": "stderr",
     "output_type": "stream",
     "text": [
      "\n"
     ]
    }
   ],
   "source": [
    "print(\"Vocabulary evaluation...\")\n",
    "evaluate_vocabulary(idx_to_word, word_to_idx, word_listing, df)\n",
    "print(\"Evaluation completed!\")"
   ]
  },
  {
   "cell_type": "code",
   "execution_count": 893,
   "metadata": {},
   "outputs": [
    {
     "name": "stdout",
     "output_type": "stream",
     "text": [
      "Saving vocabulary to /Users/antoniospantelis/Desktop/Assignment 1/Datasets/dependency_treebank/vocab.json\n",
      "Saving completed!\n"
     ]
    }
   ],
   "source": [
    "import simplejson as sj\n",
    "\n",
    "vocab_path = Path.cwd().joinpath('Datasets', \"dependency_treebank\", 'vocab.json')\n",
    "\n",
    "print(f\"Saving vocabulary to {vocab_path}\")\n",
    "with vocab_path.open(mode='w') as f:\n",
    "    sj.dump(word_to_idx, f, indent=4)\n",
    "print(\"Saving completed!\")"
   ]
  },
  {
   "cell_type": "markdown",
   "metadata": {},
   "source": [
    "**Section 5:**\n",
    "\n",
    "GloVe Embedding"
   ]
  },
  {
   "cell_type": "code",
   "execution_count": 894,
   "metadata": {},
   "outputs": [],
   "source": [
    "# Concatenate the DataFrames into one DataFrame\n",
    "trainvalid_df = pd.concat([train_df, valid_df], ignore_index=True)\n",
    "\n",
    "# Define the GloVe Embeddings\n",
    "def load_glove_vectors(file_path):\n",
    "    glove_vectors = {}\n",
    "    with open(file_path, 'r', encoding='utf-8') as file:\n",
    "        for line in file:\n",
    "            parts = line.strip().split()\n",
    "            word = parts[0]\n",
    "            vector = [float(val) for val in parts[1:]]\n",
    "            glove_vectors[word] = vector\n",
    "    return glove_vectors\n",
    "\n",
    "glove_file = '/Users/antoniospantelis/Desktop/Assignment 1/glove.6B.100d.txt'  \n",
    "glove_vectors = load_glove_vectors(glove_file)"
   ]
  },
  {
   "cell_type": "code",
   "execution_count": 895,
   "metadata": {},
   "outputs": [
    {
     "name": "stdout",
     "output_type": "stream",
     "text": [
      "Missing words: {'futures-related', 'Antitrust', 'Bridgeville', 'Times-Stock', 'GM', 'Iran-Contra', '374.20', 'Longer', 'Brooke', 'Dakotas', 'Investment', 'Charities', 'million-a-year', 'But', 'Prime', '271,124', 'LATE', 'Mexican', 'San', 'Venture', '7\\\\/16', 'Researchers', 'pathlogy', 'Yorker', 'Svenska', 'Mazda', 'Frederick', 'Sydney', 'Hans', 'Ancient', 'Garbage', 'Allen', 'Tiphook', 'Burgundy', 'Furukawa', 'Perestroika', 'student-test', 'Then', 'Sauvignon', 'Hawaiian', 'Donaldson', 'Miguel', 'Taccetta', 'History', 'Thursday', 'River', 'Campeau', 'Under', 'Edison', 'Stuart', 'Jr.', 'Aktiebolaget', 'Eaton', 'Coche-Dury', 'Skilled', 'Massachusetts', 'Despite', 'Lids', 'S.I.', 'Eugene', 'Palestinian', 'Oak', 'Traditionally', 'Can', 'Teacher', 'Backe', 'Red-blooded', 'Suisse', 'Advocates', 'Gerald', 'Valhi', 'flim-flammery', 'A', 'Stamford', 'Jobs', 'Crash', 'Garry', 'U.S.', 'Sayers', 'S&P', 'Saitama', 'Medicine', 'IBM', 'Futures', 'Wakui', 'prize-fighter', 'Carbide', 'B', 'Notes', 'index-fund', 'Journal', 'Spanish', 'NATIONAL', 'Catholic', 'Mayor', '20-stock', 'Hungary', 'Medical', 'Napa', 'Mary', 'Strait', 'Consequence', 'Campbell', 'Norman', 'Fourth', 'Kalipharma', 'executive-office', 'Leap', 'Their', 'PC', 'Herald-American', 'Certainly', 'yttrium-containing', 'Pennsylvania', 'Democrats', 'Agnew', 'Otero', 'truth-in-lending', 'Chateau', 'Following', 'Secilia', 'Metropolitan', 'airline-related', 'disaster-assistance', '2163.2', 'Yang', 'Stieglitz', 'property\\\\/casualty', 'Southeast', 'Robertson', 'Internatonal', 'Minister', 'Shearson', 'Kathryn', 'Coca-Cola', 'Scannell', 'To', 'profit-taking', 'Always', 'Estimated', 'Hopkins', 'Mayland', 'Spreads', 'Petroleum', 'Droz', 'amphobiles', 'Harcourt', 'Here', 'Morrison', 'high-polluting', 'Yet', 'Articles', 'L.', 'preparatives', 'custom-chip', 'Lt.', 'Koito', 'Grain', 'G.', 'Cedric', 'Cotran', 'sub-segments', 'Estate', 'Photograph', 'crane-safety', 'Parents', 'Bennett', '30,537', '2,303,328', 'Hill', 'Gottlieb', 'GAF', 'Lezovich', 'Barfield', 'Powers', 'Chemical', 'Birmingham', 'pre-1933', 'THREE', 'Think', 'four-foot-high', 'Communists', 'AC-130U', 'McGuigan', 'clean-air', 'Midwestern', 'Coniston', 'Ginsberg', 'buy-outs', 'Ariail', 'East', 'Domaine', 'Eliminate', 'Wright', 'R.D.', 'intellectual-property', 'Huge', 'Steve', 'PRODUCTS', 'Board', 'Drobnick', 'Vitulli', 'Columbus', 'Mrs.', 'Arraignments', 'Without', 'W.N.', 'Haney', '361,376', 'Year', 'Nixon', 'Loan', 'Lumpur', 'Riese', 'pianist-comedian', 'Stock-index', 'F-series', 'Perhaps', 'Apple', 'Danforth', 'Sidewalk', 'Kane', 'Lawmakers', 'Vargas', 'Conn.', 'Trotter', 'Duchossois', 'Kenneth', 'Supreme', 'Albany', '300-113', 'Fire', 'Declining', 'British', 'product-design', 'Only', 'Cray-3', 'Sony', 'Bew', 'Tuscany', 'Eggers', 'Enterprise', 'Any', 'Century', 'Mattress', '520-lawyer', 'Bretz', 'Wohlstetter', 'Officials', 'Perignon', 'Phillips', 'Karl', 'Sen.', 'Northy', 'Traders', 'Drink', 'Assuming', 'District', 'Eastern', 'Berman', 'TRIMMING', 'Index', 'Springs', 'President', 'Spoon', 'CTBS', 'Joanne', 'Labouisse', 'National', 'Ms.', 'On', 'Mich.', 'Dividend', 'Courter', \"O'Connor\", 'beer-belly', 'Elsevier', 'Test-preparation', 'Bates', 'Boesel', 'Roman', 'severable', 'Lambert', 'Patents', 'Impact', '374.19', '8.575', 'Sierra', 'Sugarman', 'Boston', 'Hollis', 'Midland', '449.04', 'Yale', 'Asians', 'NIH', 'SHAREDATA', 'Allied', 'McAuley', 'Ramirez', 'D.C.', 'Closes', 'Hallwood', 'one-country', 'electrical-safety', 'Upham', 'Watson', 'Services', 'Harvard', 'Harpo', 'Village', 'Signet', 'N.J.', 'Hymowitz', 'World', 'Topix', 'Dolphin', 'Mayer', 'Publishing', \"O'Brien\", 'capital-markets', 'Minneapolis', 'Affairs', 'Seagate', 'one-upsmanship', 'Synergistics', 'Dahl', 'Stena', 'new-home', 'subindustry', 'Loewi', 'PETS', 'Zealand', 'Contracts', 'Cosmopolitan', 'Act', 'Michio', 'Brussels', 'Schlemmer', 'One', 'Gillespie', 'IRS', 'MEDICINE', 'Mont', 'Herbert', 'Seats', 'Osaka', 'Assurance', 'Nagymaros', 'Wayland', 'Ill', 'Pictures', 'more-efficient', 'Einhorn', 'Constitution', 'Maine', 'H.N.', 'Stork', 'Posted', 'Literacy', 'U.S.S.R.', 'Ednie', 'Maryland', 'Scandinavian', 'government-certified', 'Planters', 'Instead', 'Zayed', 'Times', 'Angeles', 'Edwin', 'PLO', 'Bar', 'Duke', 'bald-faced', 'Publications', 'Cole', 'Blunt', 'Schmidt', 'End', 'Being', 'Fischer', 'Chamber', 'N.C', 'Hawaii', 'Premier', 'Chardonnay', 'Review', 'Cab', 'Terrence', 'Speculation', \"D'Amico\", 'year-earlier', 'Average', 'Commissions', 'Allergan', 'Anderson', 'nearly-30', 'Turkey', 'With', 'Cooper', 'We', 'Edwards', 'Kentucky', 'St.', 'Dollar-yen', 'Institutes', 'Switzerland', 'IMSAI', 'Typical', 'Machines', 'Noble', 'Human', 'Named', 'Clemens', 'Univest', 'Inc', 'Marietta', 'water-authority', 'Shugart', 'Glenham', 'PRIME', 'Shaw', 'Friends', 'Cincinnati', 'Donoghue', 'ASSOCIATES', 'Advance', 'Moon', 'BANKERS', 'Elisa', 'Funding', 'Diceon', 'Circulation', 'Cerf', 'Traficant', 'Nature', 'AGREES', 'Moines', 'Carla', 'Labor', 'Private', 'School', 'SWITCHING', 'lower-priority', 'Lord', 'Francis', 'Soviets', 'Angels', 'Nicole', 'C.J.B.', 'Manufacturing', 'Landrieu', 'Milne', 'Delwin', 'Ann', 'Uptick', 'System', 'Park', 'Barclays', 'Midvale', 'TEXAS', 'Dennis', 'Indiana', 'Hayes', 'Yamaichi', 'Inventories', 'E.C.', 'Senate-House', 'foreign-stock', 'Stadiums', 'Health', 'Jacksonville', 'Faulding', 'Chuck', 'PS', 'By', 'Image', 'War', 'Kean', 'Heiwado', 'Mehrens', 'Glauber', 'HOME', 'Jersey-based', 'Confidence', 'Scripps', 'Mass.', 'Giraud', 'Rockford', 'Standard', 'Service', 'S.p.A.', 'Jan.', 'Black', 'Trudeau', 'Piper', 'Encouraged', 'Ky.', 'Mark', 'Firms', 'Greenwich', 'Truck', 'Buckhead', 'Brands', 'Ray', '9\\\\/32', 'Sangyo', 'Don', 'search-and-seizure', 'Science', 'Ian', 'triple-C', 'March', 'Americana', 'Gray', 'Traded', 'Once', 'Economics', 'Tom', '1.457', 'Motors', 'Wine', 'Federalist', 'Characters', 'Mercer', 'Fellowship', '236.74', 'Moscow', 'Patients', 'Telephone', 'Last', 'Colonsville', 'III', 'page-one', 'Republicans', 'Amin', 'Texas', 'N.Y.', 'Crew', 'Citizens', 'Renee', 'tissue-transplant', 'Richard', 'change-ringing', 'Atlantic', 'Phi', 'Japan', 'Bridge', 'EURODOLLARS', '-LRB-', 'Shokubai', 'X', 'Leming', 'Senior', 'Dollar', 'capital-gains', 'Lancaster', 'Systems', 'Killeen', 'Oklahoma', '69-point', 'Nov.', 'Mifflin', 'Because', 'Democratic', 'Tribune', 'Fannie', 'Malcolm', 'Friday', 'Gardner', 'Jaguar', 'GMAC', 'Groucho', 'Still', 'Dallas', 'Edward', 'When', 'Mutchin', 'Hanover', 'Pattenden', 'Minnesota', 'Kuvin', 'FAMILY', 'Boeing', 'Oliver', 'Partly', 'Caribbean', 'Rail', 'NL', 'ShareData', 'Peck', 'Skinner', 'Output', 'Intermec', 'Recently', 'Every', 'Currently', 'Trans', 'Many', 'Some', 'Development', 'Seniors', 'Cancer', 'Hammacher', 'U.S.-Japanese', 'DSM', '3\\\\/4', 'marketing-communications', 'SuperDot', 'Separately', 'Lurie', 'Rice', 'Poland', 'Curry', 'state-supervised', 'Southern', 'Tiger', 'Wilson', 'security-type', 'Christian', 'Francisco', 'Felten', 'Guinea', 'Ichiro', 'McLeod', 'one-house', 'Close', 'U.S.-Japan', 'Lawyers', 'Neuberger', 'Indonesia', 'CAT', 'Blanc', 'In', '14.', 'Homeless', 'Title', 'Anti-Deficiency', 'Gas', 'Tiny', 'Agency', 'CAMPAIGN', '236.79', 'Jack', 'Arbitraging', 'Works', 'Christopher', 'Or', 'Frank', 'Steel', 'Ilminster', 'Ringers', 'Impediments', 'Shortly', 'Retin-A', \"O'Loughlin\", 'Somerset', 'Manfred', 'Vos', 'Neither', 'Solihull', 'Appeals', 'Miami', 'Squier', 'Next', 'A.L.', 'Czech', 'Thus', 'Right', 'Nebraska', 'Along', 'Small', 'Thailand', 'subminimum', 'Bailey', 'These', 'Rated', 'Nor', 'sub-markets', 'Scott', 'Gingl', 'Psychiatry', 'Boone', 'Kathleen', 'However', 'Moody', 'K.', 'ACQUISITION', 'Prior', 'Internal', 'church-goers', 'After', 'For', 'Hallett', 'Particularly', 'Muscolina', 'Elmhurst', 'Change-ringing', 'Evans', 'money-fund', 'top-yielding', 'Guffey', 'Time', 'food-shop', 'Longwood', 'Similarly', 'Merrick', 'Patricia', 'Li', '415.6', 'Environmental', 'Shipments', 'F.H.', 'Bells', 'Illinois', 'market-share', 'Cristal', 'Friedrichs', 'Rhone', 'Money', 'Gorman', 'AT&T', 'Rapanelli', 'social-studies', 'Aloha', '234.4', 'Given', 'Information', 'market-makers', 'Circuit', 'Chicago', 'Community', 'Sprint', 'Rep.', 'Hormats', 'low-ball', 'Camille', 'greenmailer', 'Dai-Ichi', 'R.I.', 'Brothers', 'Satrum', 'Rotie', 'N.M.', 'Taurus', 'He', 'Bermuda', 'anti-program', '500,004', 'Emile', 'Although', 'Beverly', 'Results', 'dead-eyed', 'Test', 'Raleigh', 'Farmers', 'Office', 'Langner', 'Hartford', 'Organization', 'EC', 'Patrick', 'Scientists', 'Korea', 'Michelin', 'Fair', 'House', 'Mike', '1937-40', 'Beth', 'Dill', 'side-crash', 'eight-count', 'PCs', 'abortion-related', 'Polytechnic', 'Gulf', 'durable-goods', 'Sauternes', 'And', 'Blackstone', 'Consider', 'Analysts', 'Not', 'Blue', 'Rumors', 'Connections', '142.85', 'Ailes', 'school-board', 'Imports', 'Menem', 'Glass', 'Primerica', 'Designated', 'George', 'Spain', 'Fuji', 'Cannell', '11,762', 'much-larger', 'Practical', 'Pepperdine', 'Mahoney', 'Co.', 'double-C', 'Indeed', 'Wilton', 'Brean', 'Sr.', 'higher-salaried', 'Parliament', 'NBC', 'Sun', 'Spielvogel', 'Colony', 'Abbot', 'DEFENSE', 'Beige', 'BTR', 'Acceptance', 'NTG', 'NEW', 'S&L', 'TIRED', 'NESB', 'crystal-lattice', 'morale-damaging', 'Fees', 'Insight', 'VanSant', 'Capital', 'non-encapsulating', 'Taylor', 'Regal', 'automotive-lighting', 'N.C.', 'CORP', 'Nikkei', 'Rally', 'Louisville', 'USX', 'labor-backed', 'Consumer', 'Chilver', 'Back', 'Bund', 'L.A.', 'Melamed', 'There', 'Camilli', 'Matthews', 'Gayle', 'Bellows', 'Walkman', 'Individuals', 'Copperweld', 'Spirit', 'Debt', 'test-drive', 'Forget', 'Toronto', 'N.V.', 'multi-crystal', 'Economy', 'Monopolies', 'Wolf', 'Bureau', 'Green', 'Huxtable', 'Stanford', '737.5', 'Credit', 'Kappa', 'Outside', 'Chinese-American', 'SAT', 'Sale', '9,118', 'Colleges', '-RRB-', 'Public', 'Monday', 'Pinocchio', 'identity-management', 'equal-opportunity', 'Orchestra', 'Kaminski', 'American', 'Georgetown', 'General', 'Redevelopment', 'Giants', 'Bob', 'Ga.', 'AIDS', 'Denver', 'Bendectin', 'Five', 'Payouts', 'Hampton', 'Dolan', 'Pitney', 'Candela', 'Combo', 'Devon', 'Navy', 'Pasadena', 'Butler', 'Backer', 'Cultural', 'UPHELD', 'Economic', 'Obligations', 'Leo', 'Berliner', 'Warsaw', 'big-ticket', 'Guarantee', 'Assets', 'Morita', 'Yorkers', 'Breeden', 'Federation', 'Underwood', 'Utilities', 'Johnson', 'Nationwide', 'circuit-board', 'sometimes-exhausting', 'Wall', 'Sterling', 'Fulton', 'Experts', 'Foster', 'Smelting', '18,444', 'Davies', 'NIH-appointed', 'Mass', 'Broken', 'RBC', 'Deng', 'Atlanta-based', 'Warren', 'Child', 'Strategic', 'Brown', 'Wis.', 'college-bowl', 'G', 'McGovern', 'Calif.-based', 'Ginnie', 'Corporations', 'Claire', 'Proponents', 'MORTGAGE', 'Shell', 'Since', 'yen-denominated', 'Communications', \"'S\", 'Warner', 'Mona', 'Gaithersburg', 'Economists', 'Magleby', 'Payments', 'Total', 'Pratt', 'six-bottle', 'Erbamont', 'single-lot', 'Legg', 'Laboratories', 'I.', 'Hale', 'Glaxo', 'Rothschild', 'Bolduc', 'Power', 'Scoring', 'Pepperidge', 'Producers', 'Structural', 'Superconductors', 'Propaganda', 'Highway', 'Technology', '11\\\\/16', 'Klein', 'Frances', 'Revolution', 'Nine', 'Division', 'Susan', 'Ratings', 'Orville', 'YMCA', 'English', 'Finance', 'F.W.', 'Rather', 'Brunei', '7.272', 'Nagano', 'LaSalle', 'West', 'Panama', 'three-sevenths', 'Offering', 'Heightened', 'Wu', 'Perpetual', 'Mehta', 'Georgia-Pacific', 'Trockenbeerenauslesen', 'Encouraging', 'Lehman', 'Austrian', 'Agriculture', 'Four', 'Memphis', 'Meanwhile', 'Baldwin', 'Higher', 'Facilities', 'Rexinger', 'Communication', 'Excluding', 'high-balance', 'Dow', 'FEDERAL', 'Wozniak', 'Reached', 'PaineWebber', 'Jail', 'subskills', 'January', 'Hearst', 'Monticello', 'Committee', 'Peter', 'Rudolph', 'Banque', 'Braun', 'Atlanta', 'Cigna', 'CDs', 'Drexel', 'Neil', 'Majority', 'Visa', 'Detroit', 'Brent', 'MacDonald', 'Chiodo', 'larger-than-normal', 'P.', '4,393,237', 'Marvin', 'Pencil', 'Developed', 'Ringing', 'Seymour', 'OF', 'Platt', 'Velcro', 'Boulder', 'Entertainment', 'Vanderbilt', 'Beach', 'Yamamoto', 'DES', 'Canepa', 'middle-ground', 'Jaffray', '100,980', 'Maxwell', 'auto-safety', 'Dell', 'price-support', 'Aslacton', 'BILLS', 'Gerhard', 'Symphony', 'Russian', 'Professional', 'Arighi', 'GHS', 'United', 'DOONESBURY', 'Plan', 'Fed', 'Foreigners', 'Winiarski', 'Proper', 'Sea', 'school-research', 'Advanced', 'TV', 'WAR', 'CS', 'Marion', 'EXCHANGE', 'industrial-production', 'Shrum', 'Philadelphia', 'Of', 'Genel', 'triple-A-rated', 'Samnick', 'Tache', 'Terms', 'Capitol', 'Actually', 'corporate-wide', 'Aug.', 'Hudnut', 'car-care', 'Supportive', 'Ackerman', 'AN', 'U.K.', 'November', 'Solaia', 'Grange', 'Later', 'home-market', 'Media', 'Courts', 'Takeshi', 'Dodge', 'INQUIRY', 'INTERPUBLIC', 'Feb.', 'Champagne', '436.01', 'SERVICES', 'N.', 'non-U.S.', 'Fairless', 'Sure', 'LTV', 'Northern', 'Taittinger', 'Just', 'POP', 'Huntsville', 'Garanti', 'Vacancies', 'car-safety', 'Henderson', 'B.A.T', 'Appellate', 'Viacom', '37-a-share', 'Form', 'Rae', 'Workers', 'lap-shoulder', 'Sigler', 'Food', 'Russel', 'Jacob', 'Clara', 'Asian', 'Jonas', 'At', 'Integra', 'Hubbard', 'Ketchum', 'Pet', 'Swiss', 'Tourism', 'Further', 'Prudential-Bache', 'Macmillan\\\\/McGraw-Hill', 'Orders', 'Dugdale', 'Industrial', 'Keith', 'Monitor', 'Pamela', 'ChemPlus', 'Jones', 'Life', 'Piero', 'Trustco', 'Earle', 'Spence', 'WHAS', 'TO', 'high-rate', 'International', 'Two', 'liquid-nitrogen', 'Investors', 'Americans', 'Sidak', 'Kawasaki', 'Sebastian', 'SCI', 'Nilson', 'acid-rain', 'Babcock', 'Winning', 'Representative', 'Anne', 'Getting', 'Than', 'Open', 'Section', 'building-products', 'F', 'Tuesday', 'three-lawyer', '1.8415', 'More', 'Altair', 'TRANSPLANT', 'Quant', 'Lauderhill', 'Crown', 'Before', 'IOUs', 'Profit', 'Saul', 'Hills', 'Va.', 'Hatch', 'Roukema', 'Byron', 'Prater', 'Pamplin', 'So', 'mid-October', 'Rick', '13\\\\/16', 'R.', 'Yasuda', 'Hoffman', 'Walt', 'INS', 'Chapter', 'La.', 'Touches', 'Liberation', 'Burnham', 'Barrels', 'Soho', 'Regarded', 'non-callable', 'Italian', 'Interviews', 'Marine', '230-215', 'Family', 'Syndicate', 'Markets', 'Bancorp', 'Annualized', 'Rogers', 'Enright', 'Herald', 'Frankly', '877,663', 'Walters', 'Root', 'Heritage', 'Gary', 'Florio', 'Lights', 'roof-crush', 'D.', 'Kelli', 'FOREIGN', 'Pty.', 'Seoul', 'Collins', 'Occupational', 'Simeon', 'Cartoonist', 'Thunderbird', 'Furillo', 'Deane', 'Needham', 'Individual', 'O.', 'Pro-forma', 'family-planning', 'Transportation', 'Adolph', 'Worksheets', 'Sometimes', 'anti-China', 'W.R.', 'Management', 'Video', 'Enzor', 'Germany', 'Recess', 'Disease', 'Coconut', 'Terrace', 'Bricklayers', 'EVERYONE', 'Daiwa', '2691.19', 'Catch-22', 'Rust', 'Del', 'Preston', 'Hoosier', '415.8', 'Rubber', 'Crude', 'FALL', 'September', 'DyDee', 'Resources', 'Edge', 'Dumpster', 'White', 'Unemployment', '3,040,000', 'Varying', 'Wilder', 'Lorillard', '497.34', 'junk-bond', 'Inns', 'Royal', 'Latour', 'Funded', 'Bush', 'Hold', 'light-truck', 'BRIEFS', 'Derel', 'Wellington', 'Cullowhee', 'Georgia', 'York-based', 'WFRR', 'Federal', 'Giant', 'Philadelphia-based', 'Often', 'machine-gun-toting', 'Souper', 'Charter', 'Kuala', '446.62', 'Washington-based', 'I', 'IX', 'Teddy', 'II', 'Backseat', 'pension-fund', 'Bordeaux', 'language-housekeeper', 'Employers', 'seven-million-ton', 'cop-killer', 'Najarian', 'Hong', 'Marie-Louise', '2\\\\/32', 'Tokyo', 'Water', 'Western', 'Oshkosh', 'LOAN', '35500.64', 'Goldman', 'Pace', '3,250,000', 'Filter', 'Salomon', 'Martin', 'Chivas', 'London-based', 'Hazell', 'Fulbright', 'Issues', 'Warrenton', 'Fulham', 'Michigan', 'Hammerton', 'Ltd', 'low-ability', 'Murakami', 'Deregulation', 'Bowman', 'Factories', 'Polls', 'Airlines', 'DIAPER', 'Mount', 'Typically', 'No', 'Hart-Scott-Rodino', 'Bangkok', 'Fortune', 'Claude', 'investor-relations', 'Sabhavasu', 'Again', 'Marge', 'Second', 'PAP', 'Malizia', 'Auctions', 'Commonwealth', 'minicrash', 'Dana-Farber', 'Mason', 'Montgomery', 'Stark', 'continuingly', 'Saturday', 'Ratners', 'mininum-wage', 'Sixth', 'Cartons', 'Giuliani', 'Default', 'Bon', 'Nasty', 'Traditional', 'Christie', 'European', 'Industries', 'Jihad', 'Explorer', 'Arizona', 'Foreign', 'Reserves', 'Club', 'Texan', 'mutual-fund', 'Groton', 'WTVJ', 'Pat', 'Islands', 'N.V', 'Berson', 'An', 'Iran\\\\/Contra', 'Earnings', 'Arlington', 'Darkhorse', 'Houston', 'Biscayne', 'Mindy', 'two-time-losers', 'Article', 'Generalized', 'Daniel', '300-a-share', 'Imhoff', 'Avrett', 'Schaefer', 'About', 'Dingell', 'Ala', 'Stewart', 'Voters', 'Paris', 'Yesterday', 'Nonetheless', 'Defense', 'Cabernets', '382-37', 'Hanifen', 'MONEY', 'Natural', 'Neal', 'USIA', 'Eagleton', 'Dutch', 'How', 'Cellar', 'cleaner-burning', 'cash-rich', 'Put', 'Beta', 'Assistant', 'Street', 'Vega', 'Dodger', 'Roosevelt', 'Savings', 'La', 'Contel', 'Wong', 'Red', 'Los', 'school-improvement', 'J.', 'Vicar', 'Editorials', 'Joseph', 'Critics', 'Lake', 'M.', 'Sino-U.S.', 'Knowing', 'Bass', 'ADRs', 'Jalaalwalikraam', 'Behind', 'Vegas', 'Much', 'Pick', 'replacement-car', 'Woodcliff', 'safe-deposit', 'Packages', 'Andrew', 'Hahn', 'Dominus', 'OVER', 'Keehn', 'Dunn', 'Whereas', 'Hugo', '5.276', 'Brigham', 'Isabelle', 'Orrick', 'Senate', 'Rabia', 'California', 'Circulations', 'Attorneys', 'Polish', 'OSHA', 'Scotia', 'Harold', 'money-market', 'TROUBLES', 'Yquem', 'built-from-kit', 'energy-services', 'Achievement', 'Government', 'Yields', 'Bumkins', 'COMMERCIAL', 'Either', 'Spillane', 'Weatherly', 'test-preparation', 'Saudi', 'Richebourg', 'Douglas', 'Wash.', 'Taking', 'Chinese', 'WAFA', 'Mitsubishi', 'Boca', 'Comtes', 'Robert', 'Legend', 'Basham', 'Pennview', '3\\\\/8', 'Pitcher', 'Mossman', 'Indexing', 'Heatherington', 'Kirkpatrick', 'Key', 'pricings', 'Goode', 'Controls', 'index-options', 'Collector', 'Takes', 'Monetary', 'industry-supported', 'Nations', 'Kerensky', 'Bugs', 'Pierre', 'Landonne', 'Abbey', 'Sheep', 'Cru', 'W.D.', 'sticker-shock', 'Stephens', 'Petrus', 'Care', 'Yasser', 'Wheeland', 'Philippines', 'FT', 'J.P.', 'Baker', 'Republican', 'dust-up', 'less-serious', 'HHS', 'Monchecourt', 'Periods', 'Commodity', 'Mostly', 'Man', '3057', 'Morrell', 'ASSETS', 'Institute', 'Piscataway', 'Chinchon', 'Messrs.', 'Chrysler', 'double-A', 'Cheetham', 'Logic', 'Signs', 'forest-product', 'Knapp', 'FUNDS', 'telephone-information', 'Zurich', 'Louis', 'Solution', 'TRUST', 'China', 'TRIAL', 'fetal-tissue', '7\\\\/8', 'Cup-Tote', '84-month', 'Chadha', 'Homebrew', 'Conn', 'Lazzaroni', 'Ethel', '238,000-circulation', 'free-enterprise', 'Borge', 'Cask', 'Embassy', 'Hampshire', 'Tulane', 'Woodrow', 'Follow-up', 'Tip', 'Manhattan', 'Florida', 'Ward', 'July', 'Mara', 'Taizo', 'Alvin', 'Waste', 'Perritt', 'Remember', 'Silverman', 'Perspective', 'Long', 'Telegraph', 'W.', 'Hammerschmidt', 'Corn', 'Smith', '3.253', '352.9', 'Sandifer', 'Vinken', 'Perch', 'Center', 'Lowe', 'Mexico', 'Odd-year', 'Containers', 'one-yen', 'Integra-A', 'Abrupt', 'POTABLES', '143.08', 'Jeremy', 'Randolph', 'Hawke', 'Argentine', 'ON', 'Owner', 'triple-A', 'Nasdaq', 'August', 'Shangkun', 'odd-year', 'Joe', 'Unico', 'Guaranteed', 'Trust', 'Laser', 'Productions', 'Daniels', 'Orange', 'Gates-Warren', 'A.D.', 'Du', 'Composer', 'sell-offs', 'Legal', '1\\\\/4', 'Compound', 'Russell', 'co-developers', 'All', 'Canada', 'Almost', 'Cote', 'Klauser', 'financial-services', 'Stock', 'Trade', 'Brownstein', 'R.P.', 'Audit', 'VOA', 'Island', 'Plaza', 'then-Speaker', 'Buy', 'PAPERS', 'drag-down', 'foldability', 'Activity', 'Jr', 'No-Smoking', 'Chong-sik', 'year-ago', 'heebie-jeebies', 'Norwest', 'Austria', 'melt-textured', 'anti-takeover', 'Fountain', 'France', 'Earns', 'JUDGE', 'Kingdom', 'June', 'Nielsen', 'Victor', 'Shores', 'Your', 'Grace', 'Cost-effective', 'Dinkins', 'Bill', 'Billings', 'Geneva', 'Court', 'Angelo', 'Take', 'Great', 'Brunswick', 'Burgundies', 'Ogilvy', 'Middlesex', 'Cluff', 'Huppert', 'Those', 'Tokyu', 'McMillin', 'Nederlanden', '22\\\\/32', '372.9', 'Hot', 'Driscoll', 'Siti', 'Morgan', 'Yeargin', 'Burt', 'Arafat', 'Webb', 'Dom', 'Fidelity', 'Pramual', 'Standardized', 'E.', 'RATES', 'Insurance', 'Cathryn', 'Besides', 'Several', 'anti-abortionists', 'Sit', 'Partners', 'Department', 'Comprehensive', 'Countries', 'DEPOSIT', 'Says', 'Kensington', 'Mikhail', '3648.82', 'Consent', 'Regulatory', 'Hospital', 'Moore', 'Reserve', 'Israel', 'takeover-stock', 'Tandy', 'Too', 'Fewer', 'Invariably', 'Strindberg', 'Kidder', 'Operations', 'Young', 'Murray', 'Syracuse', 'Petersburg', 'Colorado', 'Lonski', 'Zuckerman', 'test-practice', 'wine-buying', 'Ronald', 'Central', 'Arnold', 'Australian', 'Antonio', 'FERC', 'Egypt', 'bottom-line', 'NBI', 'If', 'Odyssey', 'Judges', 'wheel-loader', 'Jerry', 'Riviera', 'Andy', 'PAPER', 'Areas', 'Social', 'Olsen', 'FTC', 'Xerox', 'Dobson', 'University', 'Corp', 'Nipponese', 'Macmillan\\\\/McGraw', 'bank-backed', 'Samuel', 'Talcott', 'Aurora', 'Amsterdam', 'Carlos', 'Osborn', 'College', 'Farren', 'Policies', '1\\\\/2', 'Wick', 'fiber-end', 'Jackson', 'teacher-cadet', 'Kearny', 'Dorothy', 'Leigh', 'Against', 'Vice', 'PTA', '16.125', 'Las', 'Sept.', 'Pate', 'Nomura', 'Rekindled', 'Defending', 'No.', 'Wilcox', '82,389', 'Inventor', 'Estates', 'Holding', 'Renaissance-style', 'Fuentes', 'Filling', '12,252', 'Providence', 'Charles', 'Gregory', 'April', 'Dan', 'Radio', 'Mortgage', 'Pittsburgh', 'red-flag', 'Bank', 'UAL', 'Hurricane', 'Correll', 'Chase', 'Learning', '352.7', 'Mortimer', 'Taipei', 'Optical', 'Salon', 'Katzenstein', 'Triton', 'Ed', 'Short', 'Sandra', 'Phipps', 'Account', 'Leinonen', 'computer-system-design', 'Kondo', 'Doak', 'Carrier', 'Basin', 'Church', 'C$', 'Down', 'Team', 'While', 'Pa.', 'Speedway', 'Financing', 'yen-support', 'Ideas', 'Fears', 'It', 'Soups', 'Skills', \"CREATOR'S\", '13.625', 'Coxon', 'States', 'Maytag', 'Pa', '143.80', 'Olympic', 'Associates', 'Magna', 'Alliance', 'Earlier', 'TREASURY', 'Reddington', 'Safety', 'six-packs', 'Sullivan', 'America', 'Far', 'Albert', 'recession-inspired', 'Bankers', 'Lloyd', 'Citadel', 'subskill', 'BALLOT', 'Chevrolet', 'Asked', 'Huber', 'Williams', 'Neanderthals', 'Where', 'Instruments', 'German', 'Make', 'Modifications', 'Baim', 'Aptitude', 'Raymond', 'Women', 'McCormick', 'Porter', 'FreudToy', 'Population', 'flightiness', 'Gorbachev', 'Jamaica', 'Ricken', 'Kendrick', 'Lead', 'Justice', 'Gaja', 'SALT', 'Hayne', 'anti-morning-sickness', 'Danville', 'write-downs', 'Jerritts', \"C'mon\", 'Exxon', 'Such', 'Showa', 'News-American', 'Big', 'Book', 'Sigmund', 'World-Wide', 'Gilts', 'READY', 'Its', 'Egyptian', 'Buyers', 'Mac', 'This', 'Coors', 'Roland', 'Ore.', 'Marubeni', 'insurance-company', 'COMMUNICATIONS', 'Environment', 'Place', 'City', 'Judging', 'American-made', 'Johnny', 'Alysia', 'Ames', 'High', 'Lewis', 'E.W.', 'Bramalea', 'Country', 'Germans', 'Clays', 'Gartner', 'Walker', 'Source', 'Legislating', '62.625', 'Publishers', 'Hiroshima', 'Mo', 'Education', 'Everyone', 'Documents', 'lookee-loos', 'McCabe', 'US', 'Stocks', 'Beauty', 'Reagan-Bush', 'Christmas', 'Sol', 'Financially', 'pre-Communist', 'Larry', 'Journals', 'stock-selection', 'Having', 'Policy', 'Handelsbanken', 'Tots', 'Santa', 'Is', 'long-tenured', 'Newsweek', 'Excision', 'T-shirts', 'Home', 'Wellcome', 'Adams', 'single-A', 'training-wage', 'Dresser', 'Joni', 'Bowery', 'Napolitan', 'Simmons', 'Carlton', 'Czechoslovakia', 'December', 'Wadsworth', 'Builders', 'Italy', 'B.', 'Lefcourt', 'Beginning', 'Calder', 'Newspapers', 'His', 'Rouge', 'Organizations', 'Choose', 'Stockholders', 'County', 'Cosby', 'Strother', 'Alstyne', 'F.', 'Investor', 'when-issued', 'CLEARS', 'Sonnett', 'Makato', 'Steelworkers', 'Deryck', 'Jews', '90-cent-an-hour', 'Over', 'American-style', 'Valrico', 'rate-sensitive', 'MERRILL', '1.5755', 'Dynamics', 'Raul', 'Rey', 'Anything', 'Like', 'Fishman', 'limited-partnership', 'revenue-desperate', 'Dakota', 'citizen-sparked', 'TRS-80', 'Post', 'Brady', 'life-insurance', 'Oh', 'video-viewing', 'Fans', 'Pickens', 'IRAs', 'Haven', 'Rent-A-Car', 'Peabody', 'Tarwhine', 'Townes', 'Eric', 'A.', 'Citizen', 'Indianapolis', 'U.S.A', 'Markey', 'Hammersmith', 'Income', 'Linda', 'lightning-fast', 'Cray', 'Sonny', 'Graduate', 'Jefferson', 'Industry', 'Manchester', 'Northeast', 'Wells', 'Purepac', 'Soviet', 'Baltimore', 'Stag', 'Barbados', 'Banks', 'As', 'CERTIFICATES', 'Random', 'Oct.', 'Asia', 'Deposits-a', 'Mercury', 'Midwesco', 'J.L.', 'savings-and-loan', 'Ministry', 'Stories', 'Plains', 'Thai', '-LCB-', 'Retail', 'Institutions', 'Commerce', 'Brunello', 'NCNB', 'Graduates', 'Nev.', 'Farm', 'Tube', 'summer\\\\/winter', 'John', 'electric-utility', 'Rankin', 'Stevens', 'non-biodegradable', 'Control', 'Harper', 'Greer', 'Nissho-Iwai', 'Cheese', 'African', 'Danzig', 'computer-driven', 'COLLECTING', 'PLC', 'Wamre', 'Brenda', 'Barbara', 'Mo.-based', 'Bronx', 'Utah', 'Ten', 'Both', 'Card', 'Baton', 'Stronach', 'polyproplene', 'Loews', 'GOODY', 'Nearby', 'Wednesday', 'Code', 'Session', '38.375', 'Swearingen', 'Mogavero', 'Consolidated', 'Elliott', 'Why', 'Clark', 'Blanchard', 'Off-Track', 'CEOs', 'buttoned-down', 'Si', 'Wakayama', 'Reliance', 'Knopf', 'THAT', 'Sanderoff', 'Tailors', 'bellringers', 'Relations', 'Fernando', 'direct-investment', 'Among', 'Grgich', 'Aquino', 'Norwegian', 'Turnaround', 'Constitutional', 'Watanabe', 'Sacramento', 'Leroy', 'Unable', 'Tenn.', 'index-arbitrage', 'two-sevenths', 'Jovanovich', '95.09', 'Mitchell', 'Lorenzo', 'Freshbake', 'Tatsunori', 'C.D.s', 'Commodore', 'Though', 'Now', 'SEC', 'El', 'trading-company', 'Northampton', '456.64', 'purhasing', 'Barney', 'Michaels', 'Superdome', 'Keidanren', 'Malaysia', 'Opinion', 'Wild', 'Griffin', 'Dreyfus', 'Investments', 'Darrell', 'She', 'Co', 'Program', 'According', 'Merrill', 'Putty', 'Minn.', 'Roger', 'Previously', 'Ala.', 'N.J.-based', 'Richmond', 'radio-station', 'Salmore', 'Herrington', 'Travelers', 'Major', 'Reducing', 'Ballot', 'Heights', 'Iowa', 'index-related', 'Palisades', 'Lighthouse', 'Provided', 'Miss.', 'Chafic', 'Confronted', 'Whiting', 'The', 'Baris', 'Torrington', 'BIRDS', 'OK', 'Anku', 'Citicorp', 'Salty', 'Shuxian', 'Frankfurt', 'Davis', 'Moreover', 'Treble', 'Hutchinson', 'Corazon', 'Examiner', 'South', 'Charlie', 'Goldsmith', 'Bernstein', 'Security', 'twindam', 'test-prep', 'Romanee-Conti', 'Gotta', 'Washington', 'Sherwin', 'YWCA', 'Bunny', 'small-company', 'FT-SE', 'Except', 'ROGERS', 'Micronite', 'Betting', 'February', 'foreign-led', 'Valley', 'Academically', 'Louisiana', 'Purchase', 'car-development', 'Britta', 'Motor', 'Kodansha', 'Ford', 'Hours', 'crocidolite', 'incentive-bonus', 'Guard', 'Orleans', 'Genie', 'Bridges', 'Cougar', 'Mission', 'Soon', 'unfair-trade', 'Clinton', 'Takashima', 'Raton', 'Long-term', 'Greenville', 'Bucking', 'super-absorbent', 'Kansas', 'Until', 'Phelan', 'Belt', 'Free', 'Stung', 'Overseas', 'stock-manipulation', 'Metal', 'merger-related', 'Bolivia', 'Sacramento-based', 'Junk', 'Television', 'we-Japanese', 'Leighton', 'Weisfield', 'My', 'Albuquerque', '271-147', 'Scherer', 'Dole', 'Fargo', 'Marchand', 'Glendale', 'House-Senate', 'Tray', 'Vichy', 'Gold', 'David', 'Lilly', 'Negus', 'Freddie', 'Nobel', '35564.43', 'Scypher', 'Hopwood', 'Donald', 'Jersey', 'Voice', 'Basic', 'Canadian', 'Soup', 'post-hearing', 'Report', 'Securities', 'Guild', 'Toronto-based', 'ASSOCIATION', 'Solomonic', 'Rozell', 'Municipal', '8300s', 'Brace', 'Administration', 'Veselich', 'Inouye', 'Marie', 'Democracy', 'Artist', 'Ana', 'WTD', 'Totally', 'most-likely-successor', 'stock-price', 'Davenport', 'Garrison', 'Kligman', 'Berger', 'Chicago-style', 'Clive', 'Caldor', 'INGERSOLL-RAND', 'food-industry', 'stock-picking', 'Anglian', 'test-coaching', 'Ohio', 'Civilization', 'Volume', 'McDermott', 'Buick', 'Pentagon', 'Political', 'Determining', 'Newgate', 'Institution', 'Miles', 'Michael', 'Mulford', 'Ltd.', '1738.1', 'besuboru', 'Caters', 'Rubinfien', '-RCB-', 'Sheffield', 'Design', 'Association', 'Commission', 'Milan', 'Lufkin', '2003\\\\/2007', 'Bonnell', 'Dover', 'Nippon', 'Seattle', 'Price', 'Secretary', 'Houghton', 'Stearn', 'Brazil', 'Mitsui', 'Left', 'Unfortunately', 'Ind.', 'That', 'Hamilton', 'COMPUTERS', 'Story', 'Due', 'T.', 'Fang', 'Midwest', 'asset-sale', 'Desai', 'Palestine', 'Howard', 'Dallara', 'Toledo', 'CHANGED', 'Factory', 'Ballantine\\\\/Del', 'Anthony', 'program-trading', 'Bond', 'Zicklin', 'M.D.', 'Volatility', 'anti-miscarriage', 'Index-arbitrage', 'Survey', 'Wa', 'Chabrol', 're-thought', 'Dompierre', 'substance-abusing', 'Derek', 'Vineyard', 'French', 'Haruki', 'Sundays', 'Calif', 'Petersen', 'Criminal', 'Virgin', 'McGraw-Hill', 'October', 'Reames', 'North', 'Criticism', 'Funny', 'Campaign', 'war-rationed', 'Ill.', 'Holdings', 'DIALING', 'Wilbur', 'insider-trading', 'Adopting', 'Rosenblum', 'Rita', 'Sachs', 'Net', 'Also', 'Utsumi', 'Manufacturers', 'Foods', 'Resistance', 'Paul', 'Salvador', 'Corrigan', 'Rieslings', 'Corton-Charlemagne', 'Cataracts', '3,288,453', 'Generally', 'Mrs', 'Hammond', 'Discos', 'Hitachi', 'Prof', 'Phoenix', 'boogieman', 'Performing', 'Sutcliffe', '95,142', 'LANDOR', 'Research', 'Judie', 'Related', 'First', 'Concerned', 'Centerbank', 'Dean', 'mega-stadium', 'Van', 'Al', 'Ark', 'Colo.', 'CTB', 'Everybody', 'Barbaresco', 'Egnuss', 'Silicon', 'Champagnes', 'odd-sounding', 'Greece', 'Miller', 'Diaper', 'Maughan', 'Democrat', 'Cross', 'Gross', 'Zenith', 'ACCEPTANCES', 'Chairman', 'Delegates', 'Use', 'Chile', 'Pardus', 'Wood', 'Lucille', 'Us', 'Unless', 'Coleman', 'Angier', 'Destinations', '14,821', 'Fax', 'Olympia', 'Standing', 'IBC', 'Dale', 'Finmeccanica', 'Mickey', 'Carney', 'Judicial', 'Tyre', 'Express-Buick', 'ABA', 'Class', 'Sir', 'Springfield', 'Bell', 'Kangyo', 'Sandberg', 'Heidelberg', 'Could', 'Connecticut', 'Preferences', 'NASD', 'Data', 'DDB', 'Prize', 'Already', 'Bowl', 'Cutrer', 'Leningrad', 'May', 'Prebon', 'Toys', 'Marchese', 'Business', 'McFall', 'Youths', 'A.C.', 'Californian', 'England', 'Fracturing', 'Founded', 'Sales', '29year', 'Dick', 'Purchasing', 'Nicholas', 'highest-pitched', 'Mesnil', 'Doerflinger', 'parts-engineering', 'Diamond', 'Circle', 'Mergers', 'one-newspaper', 'Hollingsworth', 'Late', 'Congress', 'Irvine', 'PhacoFlex', 'Singapore', 'Rowe', 'Another', 'Rock', 'Virginia', 'Peng', 'tire-kickers', 'Alfred', 'Elisabeth', 'Mae', 'Roederer', '5.435', 'Used', 'Intecknings', 'Muzzling', 'Marc', 'IT', 'CALL', 'Thomas', 'Opus', 'Series', 'Skokie', 'Glenn', 'Moving', 'Stadium', 'Noriega', 'Scowcroft', 'Probably', 'Simon', 'stock-specialist', 'Ranieri', 'Nancy', 'India', 'Vermont', 'Current', 'High-grade', 'NBC-owned', 'Other', 'Marty', 'ABORTION', 'Robbie', 'Ellis', 'They', 'money-center', 'Westport', 'Alleghany', 'Portugal', 'William', 'Lure', 'Amendment', 'Meinders', 'Lee', 'Little', 'Old', 'circuit-breaker', 'band-wagon', 'Stockbrokers', 'Riserva', 'Xiaoping', 'Marshall', 'CDC', 'Elsewhere', 'Rockwell', 'Columbia', 'thin-lipped', 'Fremantle', 'Part', 'Trading', 'Shorter', 'Sable', 'News', 'Interpublic', 'Grand', 'Poor', 'Argentina', 'Guigal', 'Shapiro', 'Something', 'CBS', 'Local', '127.03', 'Barnett', 'Freud', 'Limited', 'Marina', 'Charlotte', 'Budget', 'Fundamentalists', 'Seed', 'Steven', 'Francisco-based', '143.93', 'A-D', 'Mining', 'Macmillan', 'Conduct', 'Europe', 'Gordon', 'Compare', 'Moleculon', 'R', 'Schwab', 'Whip', 'Stockholm', 'Peninsula', 'Myron', 'Participants', 'Jim', 'Bermuda-based', 'investment-grade', 'Advice', 'Md.', 'Judge', 'Have', 'Persky', 'FIRST', 'Deborah', 'Fields', 'Kent', 'sport-utility', 'Kuhns', 'Bonds', 'Her', 'Prosecutors', 'Ensrud', 'Phillip', 'L.P.', 'Fla.', 'Floyd', '8.467', 'Electric', 'Virtually', 'Arbitrage', 'Restaurant', 'Honolulu', 'Stanley', 'Manila', 'Evidence', 'Elco', 'Nelson', 'Zaharah', 'Breakey', 'Authority', 'Siegal', 'Tire', '7.422', 'Whelen', 'Barnum', 'Landor', 'Norwalk', 'Treasury', 'C-90', 'Scholastic', 'Jeffrey', 'Sasaki', 'ISSUES', 'LYNCH', 'equity-purchase', 'Rubicam', 'Champion', 'Broadcasting', 'Chandler', 'Alzheimer', 'NRDC', 'Order', 'C.', 'Mortgage-Backed', 'H.', '62%-owned', 'anti-programmers', '190-point', 'Energy', 'Sloan', 'GOP', 'Gov.', 'OFFERED', 'Brooks', 'PORTING', 'Grant', 'RATE', 'Beijing', 'Corp.', 'LIBOR', 'Wilfred', 'Alurralde', '1\\\\/10th', 'Dolphins', 'Show', 'Alexander', 'Hudson', 'certin', 'INTERBANK', 'Clairton', 'SDI', 'stock-index', 'Carballo', 'McAlpine', 'Queen', 'Appropriations', 'Pacific', 'Weil', 'Chatsworth', 'Bentsen', 'Improvement', 'Competes', 'Pharaoh', 'Pont', 'Brooklyn', 'Miklos', 'Filmed', 'Compromises', 'Sumitomo', 'securities-based', 'Lane', 'Photography', 'Drug', 'Graham', 'Biondi-Santi', 'Joel', 'Force', 'Wickliffe', 'Minneapolis-based', 'housing-assistance', 'Heavy', 'Dorrance', 'Goldinger', 'Ariz.', 'Carson', 'quantitive', 'Teikoku', 'Wayne', 'Mercantile', 'superpremiums', 'TWO', 'SALARIES', 'floating-rate', '6\\\\/2', 'Common', 'shirt-sleeved', 'Gringo', 'Taiwan', 'Citing', 'Horsham', 'forest-products', 'Bradley', 'Hiroshi', 'school-district', 'WPP', 'Merc', 'Sotheby', 'Carolina', 'Westborough', 'less-than-brilliant', '13,056', 'Philippine', 'Koizumi', 'mortgage-based', 'savers\\\\/investors', 'Altogether', 'Today', 'Huntington', 'Carnegie-Mellon', 'Illuminating', 'Arabia', 'Paribas', 'lynch-mob', 'Acquisition', 'Elizabeth', 'Schweiz', 'Chaplin', 'Bowes', 'Oil', 'Haut-Brion', 'Conference', 'Alan', 'collective-bargaining', 'Mr.', 'S.p', '1928-33', 'N.H.', 'Dr.', '2160.1', 'Dogs', '278.7', 'Shelby', 'propagandizes', 'Corporate', 'Council', 'Airways', 'Lobo', 'Bromwich', 'Share', 'Failure', 'Trojan', 'Legislation', 'Society', 'Sunday', 'Hotel', 'Harris', 'Send', 'Roof', 'antitrust-law', 'Grandsire', 'Maybe', 'Nestor', 'Brian', 'Possible', 'DISCOUNT', 'detective-story', 'Craftsmen', 'Nekoosa', 'Esso', 'Spending', 'Marder', 'Prof.', 'Princeton', 'Beatles', 'Inc.', 'Crime', 'USA', 'Spitler', 'Virginians', 'Continuing', 'Garret', 'Luce', 'Seahorse', '16,072', 'Netherlands', 'BRAMALEA', 'Pretty', 'Westminster', 'Asada', 'Observing', 'S.', 'Week', 'Takuma', 'Tramp', 'Nemeth', 'During', 'Rill', 'ACCOUNT', 'Del.', 'Jenrette', 'Palmer', 'Des', 'Dec.', 'Serial', 'Stores', 'Nationale', 'Merchant', 'Cambridge', 'Educational', 'Hurley', 'Australia', 'Nevertheless', 'OTC', 'Equivalents', 'Most', 'Risks', 'Jay', 'From', 'Express', 'Boorse', 'Latin', 'Traverse', 'Convention', 'Cabernet', 'Crane', 'Plantation', 'DeFazio', 'bell-ringer', 'Hutton', 'Akerfeldt', 'Stephanie', 'prevalance', 'price-depressing', 'Whether', 'Rey\\\\/Fawcett', 'Nelms', 'THE', 'Timex', 'Veraldi', 'land-idling', 'Who', 'Different', '71,309', '705.6', '2141.7', 'Stirlen', 'Fujitsu', 'Union', 'Buying', 'Cruise', 'LONDON', 'Strong', 'Dealers', 'Rockefeller', 'Linden', 'Avenue', 'Montedison', 'twin-jet', 'Akio', 'Tassinari', 'mouth-up', 'God', 'new-car', 'Arthur', 'Deere', 'Lieberman', 'Reed', 'Woodward', 'Blancs', 'Unlike', 'Sulaiman', 'London', 'You', 'achievement-test', 'sogo-shosha', 'People', '12\\\\/32', 'Smaby', 'Troubled', 'Andrea', 'Lynch', 'Driskill', 'automotive-parts', 'Norwick', 'Air', 'Anglia', 'Steinberg', 'Barth', 'Fabian', 'Three', 'York', 'incentive-backed', 'Danube', 'JUDICIAL', 'Cellars', 'Occidental', 'Japanese', 'Poore', 'Centers', 'Kill', 'Ross', 'State', 'Hara', 'Lafite-Rothschild', 'Walbrecher', 'NEC', 'Duluth', 'Eurobonds', 'Earlham', 'Signore', 'Temple', 'Banking', 'Gates', 'Takeover', 'Underwoods', 'Register', '30,841', 'Fred', 'Even', 'Jennison', 'Borough', '23,403', 'Automobile', 'UNION', 'Electronics', 'Confederation', 'Fifteen', 'Lovett', 'Telerate', 'FAX', 'Revenue', 'Sherwood', 'Rate', 'LSI', 'Materials', 'sulfur-dioxide', 'Fahrenheit', 'Few', 'Mo.', 'Options', 'ASLACTON', 'Coincident', 'Preliminary', 'Jenkins', 'Kong', 'Cathedral', 'Bankruptcy', 'motor-home', 'Novello', 'Reagan', 'James', 'Plans', 'Johns', '14\\\\/32', 'Hoylake', 'credit-rating', 'Itoh', 'Z.', 'Old-House', 'Ridgefield', 'Calif.', 'Hummerstone', 'pre-1917', 'Group', 'Brownell', 'Initiative', 'rope-sight', '5\\\\/8', 'Fund', 'Negotiable', 'Citibank', 'sometimes-tawdry', 'Market', '16\\\\/32', 'Trettien', 'New', 'Protection', 'U.S.A.', 'PHOTOGRAPH', 'Dominion', 'N.Y', 'Goodman', 'Tokio', 'MITI', 'Law', 'Julia', 'What', 'Rolling', 'autions', 'Gerard', 'GHKM', 'RULING', 'Parent', 'Fails', 'Macheski', 'front-seat', 'Foot', 'None', 'Antinori', 'Milwaukee', 'Creek', 'Computer', 'Housing', 'Ad', 'Sweden', 'Foundation', 'Newhouse', 'Uzi-model', 'CEO', '7.458', 'Bodner', 'Russo', 'US$', 'Exchange', 'Daily', 'Landis', 'Pretax', 'Stoll', 'Lawless', 'N.J', 'Nylev', 'Pressures', '1\\\\/8', 'Rev.', 'Exports', 'Partnership', 'Packaging', 'Writers', 'CoreStates', 'Each', 'Ruth', 'AG', 'Hermitage', 'Financial', 'S.A', 'Braidwood', 'Thrall', 'Stephen', 'Chardonnays', '4.898', 'Candlestick', 'Laura', 'Olson', '70-a-share', 'unenticing', 'card-member', 'Adds', 'English-speaking', 'Bridgestone\\\\/Firestone', 'Items', 'Nesconset', 'Parkinson', 'Britain', 'Baum', 'Madison', 'Henry', 'contingency-fee', 'Growth', 'Spiro', 'Mather', 'Do', 'DOT', 'Lizhi', 'Cleveland', '47.125', '2645.90', 'Orlando', 'Vose'}\n"
     ]
    }
   ],
   "source": [
    "missing_words = set(trainvalid_df['Word'].explode()) - set(glove_vectors.keys())\n",
    "print(\"Missing words:\", missing_words)"
   ]
  },
  {
   "cell_type": "code",
   "execution_count": 896,
   "metadata": {},
   "outputs": [],
   "source": [
    "def get_word_embedding(word, vectors, embedding_dim): # assigning zero vectors to OOV words\n",
    "    return vectors.get(word, np.zeros(embedding_dim))\n",
    "\n",
    "embedding_dim = 100  # Adjust to match the dimension of your GloVe vectors\n",
    "trainvalid_df['Embeddings'] = trainvalid_df['Word'].apply(\n",
    "    lambda x: [get_word_embedding(word, glove_vectors, embedding_dim) for word in x]\n",
    ")"
   ]
  },
  {
   "cell_type": "code",
   "execution_count": 897,
   "metadata": {},
   "outputs": [
    {
     "name": "stdout",
     "output_type": "stream",
     "text": [
      "0        [[0.0, 0.0, 0.0, 0.0, 0.0, 0.0, 0.0, 0.0, 0.0,...\n",
      "1        [[-1.014, 0.078819, 0.47789, -0.71001, 0.40337...\n",
      "2        [[0.13482, 0.40224, -0.42266, -0.055631, -0.55...\n",
      "3        [[0.15803, -0.20771, 0.0084052, 0.11011, 0.322...\n",
      "4        [[0.0, 0.0, 0.0, 0.0, 0.0, 0.0, 0.0, 0.0, 0.0,...\n",
      "                               ...                        \n",
      "78534    [[0.0, 0.0, 0.0, 0.0, 0.0, 0.0, 0.0, 0.0, 0.0,...\n",
      "78535    [[0.0, 0.0, 0.0, 0.0, 0.0, 0.0, 0.0, 0.0, 0.0,...\n",
      "78536    [[-0.10767, 0.11053, 0.59812, -0.54361, 0.6739...\n",
      "78537    [[0.0, 0.0, 0.0, 0.0, 0.0, 0.0, 0.0, 0.0, 0.0,...\n",
      "78538    [[-0.33979, 0.20941, 0.46348, -0.64792, -0.383...\n",
      "Name: Embeddings, Length: 78539, dtype: object\n"
     ]
    }
   ],
   "source": [
    "print(trainvalid_df['Embeddings'])"
   ]
  },
  {
   "cell_type": "code",
   "execution_count": 898,
   "metadata": {},
   "outputs": [
    {
     "name": "stdout",
     "output_type": "stream",
     "text": [
      "[[ 0.        0.        0.       ...  0.        0.        0.      ]\n",
      " [-1.0889    0.15505   0.31952  ... -0.53891  -0.042026 -0.21763 ]\n",
      " [-1.014     0.078819  0.47789  ... -0.21606   0.81187  -0.88524 ]\n",
      " ...\n",
      " [-0.33979   0.20941   0.46348  ... -0.23394   0.47298  -0.028803]\n",
      " [ 0.        0.        0.       ...  0.        0.        0.      ]\n",
      " [-0.33979   0.20941   0.46348  ... -0.23394   0.47298  -0.028803]]\n"
     ]
    }
   ],
   "source": [
    "\n",
    "embeddings_matrix = np.vstack(trainvalid_df['Embeddings'].apply(np.array))\n",
    "print(embeddings_matrix)\n"
   ]
  },
  {
   "cell_type": "markdown",
   "metadata": {},
   "source": [
    "**Section 6:**\n",
    "\n",
    "Definition of the baseline (Bidirectional LSTM with a dense layer), the 1st model (one additional LSTM layer) and the 2nd model (one additional dense layer)."
   ]
  },
  {
   "cell_type": "code",
   "execution_count": 899,
   "metadata": {},
   "outputs": [
    {
     "name": "stdout",
     "output_type": "stream",
     "text": [
      "Model: \"Baseline\"\n",
      "_________________________________________________________________\n",
      " Layer (type)                Output Shape              Param #   \n",
      "=================================================================\n",
      " bidirectional_LSTM (Bidire  (None, 24, 128)           84480     \n",
      " ctional)                                                        \n",
      "                                                                 \n",
      " Dense_layer (Dense)         (None, 24, 45)            5805      \n",
      "                                                                 \n",
      "=================================================================\n",
      "Total params: 90285 (352.68 KB)\n",
      "Trainable params: 90285 (352.68 KB)\n",
      "Non-trainable params: 0 (0.00 Byte)\n",
      "_________________________________________________________________\n"
     ]
    }
   ],
   "source": [
    "import tensorflow as tf\n",
    "from keras.models import Sequential\n",
    "from keras.layers import Embedding, Bidirectional, LSTM, Dense\n",
    "\n",
    "# Define the model\n",
    "baseline_model = Sequential(name='Baseline')\n",
    "\n",
    "max_sentence_length = max(trainvalid_df['Word'].apply(len))\n",
    "\n",
    "# Input shape should match the shape of your input sequences (e.g., word embeddings)\n",
    "input_shape = (max_sentence_length, embedding_dim)\n",
    "\n",
    "# Add Bidirectional LSTM layer\n",
    "baseline_model.add(Bidirectional(LSTM(64, return_sequences=True), input_shape=input_shape,name='bidirectional_LSTM'))\n",
    "\n",
    "unique_pos = trainvalid_df['POS'].explode().unique()\n",
    "num_pos = len(unique_pos) # The number of unique POS tags\n",
    "\n",
    "# The number of units in the Dense layer should match the number of classes or labels in your task\n",
    "baseline_model.add(Dense(num_pos, activation='softmax',name='Dense_layer'))\n",
    "\n",
    "baseline_model.compile(optimizer='adam', loss='categorical_crossentropy', metrics=['accuracy'])\n",
    "baseline_model.summary()\n"
   ]
  },
  {
   "cell_type": "code",
   "execution_count": 900,
   "metadata": {},
   "outputs": [
    {
     "name": "stdout",
     "output_type": "stream",
     "text": [
      "Model: \"Model_1\"\n",
      "_________________________________________________________________\n",
      " Layer (type)                Output Shape              Param #   \n",
      "=================================================================\n",
      " bidirectional_LSTM (Bidire  (None, 24, 128)           84480     \n",
      " ctional)                                                        \n",
      "                                                                 \n",
      " Dense_layer (Dense)         (None, 24, 45)            5805      \n",
      "                                                                 \n",
      " additional_LSTM (LSTM)      (None, 24, 32)            9984      \n",
      "                                                                 \n",
      "=================================================================\n",
      "Total params: 100269 (391.68 KB)\n",
      "Trainable params: 100269 (391.68 KB)\n",
      "Non-trainable params: 0 (0.00 Byte)\n",
      "_________________________________________________________________\n"
     ]
    }
   ],
   "source": [
    "# Copy the baseline_model\n",
    "model_1 = tf.keras.models.clone_model(baseline_model)\n",
    "model_1.build((None, max_sentence_length, embedding_dim))  # Build the model to set input shape\n",
    "\n",
    "model_1._name = 'Model_1'\n",
    "\n",
    "# Add one additional LSTM layer\n",
    "model_1.add(LSTM(32, return_sequences=True, name='additional_LSTM'))\n",
    "\n",
    "model_1.compile(optimizer='adam', loss='categorical_crossentropy', metrics=['accuracy'])\n",
    "model_1.summary()\n"
   ]
  },
  {
   "cell_type": "code",
   "execution_count": 901,
   "metadata": {},
   "outputs": [
    {
     "name": "stdout",
     "output_type": "stream",
     "text": [
      "Model: \"Model_2\"\n",
      "_________________________________________________________________\n",
      " Layer (type)                Output Shape              Param #   \n",
      "=================================================================\n",
      " bidirectional_LSTM (Bidire  (None, 24, 128)           84480     \n",
      " ctional)                                                        \n",
      "                                                                 \n",
      " Dense_layer (Dense)         (None, 24, 45)            5805      \n",
      "                                                                 \n",
      " additional_Dense_layer (De  (None, 24, 64)            2944      \n",
      " nse)                                                            \n",
      "                                                                 \n",
      "=================================================================\n",
      "Total params: 93229 (364.18 KB)\n",
      "Trainable params: 93229 (364.18 KB)\n",
      "Non-trainable params: 0 (0.00 Byte)\n",
      "_________________________________________________________________\n"
     ]
    }
   ],
   "source": [
    "model_2 = tf.keras.models.clone_model(baseline_model)\n",
    "model_2._name = 'Model_2'\n",
    "\n",
    "# Add one additional dense layer\n",
    "model_2.add(Dense(64, activation='relu', name='additional_Dense_layer'))\n",
    "\n",
    "model_2.compile(optimizer='adam', loss='categorical_crossentropy', metrics=['accuracy'])\n",
    "model_2.summary()\n"
   ]
  },
  {
   "cell_type": "markdown",
   "metadata": {},
   "source": [
    "**Section 7:**\n",
    "\n",
    "Definition of the evaluation metrics for comparison."
   ]
  }
 ],
 "metadata": {
  "kernelspec": {
   "display_name": "base",
   "language": "python",
   "name": "python3"
  },
  "language_info": {
   "codemirror_mode": {
    "name": "ipython",
    "version": 3
   },
   "file_extension": ".py",
   "mimetype": "text/x-python",
   "name": "python",
   "nbconvert_exporter": "python",
   "pygments_lexer": "ipython3",
   "version": "3.11.5"
  }
 },
 "nbformat": 4,
 "nbformat_minor": 2
}
